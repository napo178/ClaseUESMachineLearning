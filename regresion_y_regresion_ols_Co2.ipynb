{
  "cells": [
    {
      "cell_type": "markdown",
      "metadata": {
        "button": false,
        "new_sheet": false,
        "run_control": {
          "read_only": false
        },
        "id": "XD3p8q5R4t7q"
      },
      "source": [
        "\n",
        "\n",
        "# Multiple Linear Regression\n",
        "\n",
        "Tiempo estimado: **20** minutes\n",
        "\n",
        "## Objectivos\n",
        "\n",
        "\n",
        "After completing this lab you will be able to:\n",
        "\n",
        "* Use scikit-learn para implementar la regresión lineal múltiple\n",
        "* Cree un modelo, entrénelo, pruébelo y use el modelo\n"
      ]
    },
    {
      "cell_type": "markdown",
      "source": [
        "Comprender los datos\n",
        "\n",
        "Lectura de los datos\n",
        "Modelo de regresión múltiple\n",
        "Predicción\n",
        "Práctica"
      ],
      "metadata": {
        "id": "F1TjR9LI5DmO"
      }
    },
    {
      "cell_type": "markdown",
      "metadata": {
        "button": false,
        "new_sheet": false,
        "run_control": {
          "read_only": false
        },
        "id": "swQLI92_4t75"
      },
      "source": [
        "### Importing Needed packages\n"
      ]
    },
    {
      "cell_type": "code",
      "execution_count": 1,
      "metadata": {
        "button": false,
        "new_sheet": false,
        "run_control": {
          "read_only": false
        },
        "id": "Mz9lI4gU4t77"
      },
      "outputs": [],
      "source": [
        "import matplotlib.pyplot as plt\n",
        "import pandas as pd\n",
        "import pylab as pl\n",
        "import numpy as np\n",
        "%matplotlib inline"
      ]
    },
    {
      "cell_type": "markdown",
      "metadata": {
        "button": false,
        "new_sheet": false,
        "run_control": {
          "read_only": false
        },
        "id": "D1C0uKzT4t8A"
      },
      "source": [
        "Descargar data\n"
      ]
    },
    {
      "cell_type": "code",
      "execution_count": 2,
      "metadata": {
        "button": false,
        "new_sheet": false,
        "run_control": {
          "read_only": false
        },
        "id": "vlViJlhf4t8C",
        "colab": {
          "base_uri": "https://localhost:8080/"
        },
        "outputId": "2b2aa999-5c6f-4517-c74e-d991b4c20fad"
      },
      "outputs": [
        {
          "output_type": "stream",
          "name": "stdout",
          "text": [
            "--2022-05-07 20:57:14--  https://cf-courses-data.s3.us.cloud-object-storage.appdomain.cloud/IBMDeveloperSkillsNetwork-ML0101EN-SkillsNetwork/labs/Module%202/data/FuelConsumptionCo2.csv\n",
            "Resolving cf-courses-data.s3.us.cloud-object-storage.appdomain.cloud (cf-courses-data.s3.us.cloud-object-storage.appdomain.cloud)... 169.45.118.108\n",
            "Connecting to cf-courses-data.s3.us.cloud-object-storage.appdomain.cloud (cf-courses-data.s3.us.cloud-object-storage.appdomain.cloud)|169.45.118.108|:443... connected.\n",
            "HTTP request sent, awaiting response... 200 OK\n",
            "Length: 72629 (71K) [text/csv]\n",
            "Saving to: ‘FuelConsumption.csv’\n",
            "\n",
            "FuelConsumption.csv 100%[===================>]  70.93K  --.-KB/s    in 0.05s   \n",
            "\n",
            "2022-05-07 20:57:14 (1.37 MB/s) - ‘FuelConsumption.csv’ saved [72629/72629]\n",
            "\n"
          ]
        }
      ],
      "source": [
        "!wget -O FuelConsumption.csv https://cf-courses-data.s3.us.cloud-object-storage.appdomain.cloud/IBMDeveloperSkillsNetwork-ML0101EN-SkillsNetwork/labs/Module%202/data/FuelConsumptionCo2.csv"
      ]
    },
    {
      "cell_type": "markdown",
      "metadata": {
        "button": false,
        "new_sheet": false,
        "run_control": {
          "read_only": false
        },
        "id": "9Mw3lSCD4t8G"
      },
      "source": [
        "\n",
        "\n",
        "### `FuelConsumption.csv`:\n",
        "\n",
        " [Dataset source](http://open.canada.ca/data/en/dataset/98f1a129-f628-4ce4-b24d-6f16bf24dd64?utm_medium=Exinfluencer&utm_source=Exinfluencer&utm_content=000026UJ&utm_term=10006555&utm_id=NA-SkillsNetwork-Channel-SkillsNetworkCoursesIBMDeveloperSkillsNetworkML0101ENSkillsNetwork20718538-2021-01-01)\n",
        "\n",
        "*   **MODELYEAR** e.g. 2014\n",
        "*   **MAKE** e.g. Acura\n",
        "*   **MODEL** e.g. ILX\n",
        "*   **VEHICLE CLASS** e.g. SUV\n",
        "*   **ENGINE SIZE** e.g. 4.7\n",
        "*   **CYLINDERS** e.g 6\n",
        "*   **TRANSMISSION** e.g. A6\n",
        "*   **FUELTYPE** e.g. z\n",
        "*   **FUEL CONSUMPTION in CITY(L/100 km)** e.g. 9.9\n",
        "*   **FUEL CONSUMPTION in HWY (L/100 km)** e.g. 8.9\n",
        "*   **FUEL CONSUMPTION COMB (L/100 km)** e.g. 9.2\n",
        "*   **CO2 EMISSIONS (g/km)** e.g. 182   --> low --> 0\n"
      ]
    },
    {
      "cell_type": "markdown",
      "metadata": {
        "button": false,
        "new_sheet": false,
        "run_control": {
          "read_only": false
        },
        "id": "dpqKe57E4t8J"
      },
      "source": [
        "<h2 id=\"reading_data\">Reading the data in</h2>\n"
      ]
    },
    {
      "cell_type": "code",
      "execution_count": 3,
      "metadata": {
        "button": false,
        "new_sheet": false,
        "run_control": {
          "read_only": false
        },
        "id": "i-f_xGOA4t8L",
        "colab": {
          "base_uri": "https://localhost:8080/",
          "height": 206
        },
        "outputId": "9b632825-618a-455b-b1bc-9acf981b0073"
      },
      "outputs": [
        {
          "output_type": "execute_result",
          "data": {
            "text/plain": [
              "   MODELYEAR   MAKE       MODEL VEHICLECLASS  ENGINESIZE  CYLINDERS  \\\n",
              "0       2014  ACURA         ILX      COMPACT         2.0          4   \n",
              "1       2014  ACURA         ILX      COMPACT         2.4          4   \n",
              "2       2014  ACURA  ILX HYBRID      COMPACT         1.5          4   \n",
              "3       2014  ACURA     MDX 4WD  SUV - SMALL         3.5          6   \n",
              "4       2014  ACURA     RDX AWD  SUV - SMALL         3.5          6   \n",
              "\n",
              "  TRANSMISSION FUELTYPE  FUELCONSUMPTION_CITY  FUELCONSUMPTION_HWY  \\\n",
              "0          AS5        Z                   9.9                  6.7   \n",
              "1           M6        Z                  11.2                  7.7   \n",
              "2          AV7        Z                   6.0                  5.8   \n",
              "3          AS6        Z                  12.7                  9.1   \n",
              "4          AS6        Z                  12.1                  8.7   \n",
              "\n",
              "   FUELCONSUMPTION_COMB  FUELCONSUMPTION_COMB_MPG  CO2EMISSIONS  \n",
              "0                   8.5                        33           196  \n",
              "1                   9.6                        29           221  \n",
              "2                   5.9                        48           136  \n",
              "3                  11.1                        25           255  \n",
              "4                  10.6                        27           244  "
            ],
            "text/html": [
              "\n",
              "  <div id=\"df-4fc7d0b7-14ac-49a0-bea8-1e4b07747ba5\">\n",
              "    <div class=\"colab-df-container\">\n",
              "      <div>\n",
              "<style scoped>\n",
              "    .dataframe tbody tr th:only-of-type {\n",
              "        vertical-align: middle;\n",
              "    }\n",
              "\n",
              "    .dataframe tbody tr th {\n",
              "        vertical-align: top;\n",
              "    }\n",
              "\n",
              "    .dataframe thead th {\n",
              "        text-align: right;\n",
              "    }\n",
              "</style>\n",
              "<table border=\"1\" class=\"dataframe\">\n",
              "  <thead>\n",
              "    <tr style=\"text-align: right;\">\n",
              "      <th></th>\n",
              "      <th>MODELYEAR</th>\n",
              "      <th>MAKE</th>\n",
              "      <th>MODEL</th>\n",
              "      <th>VEHICLECLASS</th>\n",
              "      <th>ENGINESIZE</th>\n",
              "      <th>CYLINDERS</th>\n",
              "      <th>TRANSMISSION</th>\n",
              "      <th>FUELTYPE</th>\n",
              "      <th>FUELCONSUMPTION_CITY</th>\n",
              "      <th>FUELCONSUMPTION_HWY</th>\n",
              "      <th>FUELCONSUMPTION_COMB</th>\n",
              "      <th>FUELCONSUMPTION_COMB_MPG</th>\n",
              "      <th>CO2EMISSIONS</th>\n",
              "    </tr>\n",
              "  </thead>\n",
              "  <tbody>\n",
              "    <tr>\n",
              "      <th>0</th>\n",
              "      <td>2014</td>\n",
              "      <td>ACURA</td>\n",
              "      <td>ILX</td>\n",
              "      <td>COMPACT</td>\n",
              "      <td>2.0</td>\n",
              "      <td>4</td>\n",
              "      <td>AS5</td>\n",
              "      <td>Z</td>\n",
              "      <td>9.9</td>\n",
              "      <td>6.7</td>\n",
              "      <td>8.5</td>\n",
              "      <td>33</td>\n",
              "      <td>196</td>\n",
              "    </tr>\n",
              "    <tr>\n",
              "      <th>1</th>\n",
              "      <td>2014</td>\n",
              "      <td>ACURA</td>\n",
              "      <td>ILX</td>\n",
              "      <td>COMPACT</td>\n",
              "      <td>2.4</td>\n",
              "      <td>4</td>\n",
              "      <td>M6</td>\n",
              "      <td>Z</td>\n",
              "      <td>11.2</td>\n",
              "      <td>7.7</td>\n",
              "      <td>9.6</td>\n",
              "      <td>29</td>\n",
              "      <td>221</td>\n",
              "    </tr>\n",
              "    <tr>\n",
              "      <th>2</th>\n",
              "      <td>2014</td>\n",
              "      <td>ACURA</td>\n",
              "      <td>ILX HYBRID</td>\n",
              "      <td>COMPACT</td>\n",
              "      <td>1.5</td>\n",
              "      <td>4</td>\n",
              "      <td>AV7</td>\n",
              "      <td>Z</td>\n",
              "      <td>6.0</td>\n",
              "      <td>5.8</td>\n",
              "      <td>5.9</td>\n",
              "      <td>48</td>\n",
              "      <td>136</td>\n",
              "    </tr>\n",
              "    <tr>\n",
              "      <th>3</th>\n",
              "      <td>2014</td>\n",
              "      <td>ACURA</td>\n",
              "      <td>MDX 4WD</td>\n",
              "      <td>SUV - SMALL</td>\n",
              "      <td>3.5</td>\n",
              "      <td>6</td>\n",
              "      <td>AS6</td>\n",
              "      <td>Z</td>\n",
              "      <td>12.7</td>\n",
              "      <td>9.1</td>\n",
              "      <td>11.1</td>\n",
              "      <td>25</td>\n",
              "      <td>255</td>\n",
              "    </tr>\n",
              "    <tr>\n",
              "      <th>4</th>\n",
              "      <td>2014</td>\n",
              "      <td>ACURA</td>\n",
              "      <td>RDX AWD</td>\n",
              "      <td>SUV - SMALL</td>\n",
              "      <td>3.5</td>\n",
              "      <td>6</td>\n",
              "      <td>AS6</td>\n",
              "      <td>Z</td>\n",
              "      <td>12.1</td>\n",
              "      <td>8.7</td>\n",
              "      <td>10.6</td>\n",
              "      <td>27</td>\n",
              "      <td>244</td>\n",
              "    </tr>\n",
              "  </tbody>\n",
              "</table>\n",
              "</div>\n",
              "      <button class=\"colab-df-convert\" onclick=\"convertToInteractive('df-4fc7d0b7-14ac-49a0-bea8-1e4b07747ba5')\"\n",
              "              title=\"Convert this dataframe to an interactive table.\"\n",
              "              style=\"display:none;\">\n",
              "        \n",
              "  <svg xmlns=\"http://www.w3.org/2000/svg\" height=\"24px\"viewBox=\"0 0 24 24\"\n",
              "       width=\"24px\">\n",
              "    <path d=\"M0 0h24v24H0V0z\" fill=\"none\"/>\n",
              "    <path d=\"M18.56 5.44l.94 2.06.94-2.06 2.06-.94-2.06-.94-.94-2.06-.94 2.06-2.06.94zm-11 1L8.5 8.5l.94-2.06 2.06-.94-2.06-.94L8.5 2.5l-.94 2.06-2.06.94zm10 10l.94 2.06.94-2.06 2.06-.94-2.06-.94-.94-2.06-.94 2.06-2.06.94z\"/><path d=\"M17.41 7.96l-1.37-1.37c-.4-.4-.92-.59-1.43-.59-.52 0-1.04.2-1.43.59L10.3 9.45l-7.72 7.72c-.78.78-.78 2.05 0 2.83L4 21.41c.39.39.9.59 1.41.59.51 0 1.02-.2 1.41-.59l7.78-7.78 2.81-2.81c.8-.78.8-2.07 0-2.86zM5.41 20L4 18.59l7.72-7.72 1.47 1.35L5.41 20z\"/>\n",
              "  </svg>\n",
              "      </button>\n",
              "      \n",
              "  <style>\n",
              "    .colab-df-container {\n",
              "      display:flex;\n",
              "      flex-wrap:wrap;\n",
              "      gap: 12px;\n",
              "    }\n",
              "\n",
              "    .colab-df-convert {\n",
              "      background-color: #E8F0FE;\n",
              "      border: none;\n",
              "      border-radius: 50%;\n",
              "      cursor: pointer;\n",
              "      display: none;\n",
              "      fill: #1967D2;\n",
              "      height: 32px;\n",
              "      padding: 0 0 0 0;\n",
              "      width: 32px;\n",
              "    }\n",
              "\n",
              "    .colab-df-convert:hover {\n",
              "      background-color: #E2EBFA;\n",
              "      box-shadow: 0px 1px 2px rgba(60, 64, 67, 0.3), 0px 1px 3px 1px rgba(60, 64, 67, 0.15);\n",
              "      fill: #174EA6;\n",
              "    }\n",
              "\n",
              "    [theme=dark] .colab-df-convert {\n",
              "      background-color: #3B4455;\n",
              "      fill: #D2E3FC;\n",
              "    }\n",
              "\n",
              "    [theme=dark] .colab-df-convert:hover {\n",
              "      background-color: #434B5C;\n",
              "      box-shadow: 0px 1px 3px 1px rgba(0, 0, 0, 0.15);\n",
              "      filter: drop-shadow(0px 1px 2px rgba(0, 0, 0, 0.3));\n",
              "      fill: #FFFFFF;\n",
              "    }\n",
              "  </style>\n",
              "\n",
              "      <script>\n",
              "        const buttonEl =\n",
              "          document.querySelector('#df-4fc7d0b7-14ac-49a0-bea8-1e4b07747ba5 button.colab-df-convert');\n",
              "        buttonEl.style.display =\n",
              "          google.colab.kernel.accessAllowed ? 'block' : 'none';\n",
              "\n",
              "        async function convertToInteractive(key) {\n",
              "          const element = document.querySelector('#df-4fc7d0b7-14ac-49a0-bea8-1e4b07747ba5');\n",
              "          const dataTable =\n",
              "            await google.colab.kernel.invokeFunction('convertToInteractive',\n",
              "                                                     [key], {});\n",
              "          if (!dataTable) return;\n",
              "\n",
              "          const docLinkHtml = 'Like what you see? Visit the ' +\n",
              "            '<a target=\"_blank\" href=https://colab.research.google.com/notebooks/data_table.ipynb>data table notebook</a>'\n",
              "            + ' to learn more about interactive tables.';\n",
              "          element.innerHTML = '';\n",
              "          dataTable['output_type'] = 'display_data';\n",
              "          await google.colab.output.renderOutput(dataTable, element);\n",
              "          const docLink = document.createElement('div');\n",
              "          docLink.innerHTML = docLinkHtml;\n",
              "          element.appendChild(docLink);\n",
              "        }\n",
              "      </script>\n",
              "    </div>\n",
              "  </div>\n",
              "  "
            ]
          },
          "metadata": {},
          "execution_count": 3
        }
      ],
      "source": [
        "df = pd.read_csv(\"FuelConsumption.csv\")\n",
        "\n",
        "# take a look at the dataset\n",
        "df.head()"
      ]
    },
    {
      "cell_type": "code",
      "source": [
        "df.isnull().sum()"
      ],
      "metadata": {
        "colab": {
          "base_uri": "https://localhost:8080/"
        },
        "id": "47ehpoQ_fGBv",
        "outputId": "0443d7b3-1617-48cb-c693-ff28f0a688c1"
      },
      "execution_count": 4,
      "outputs": [
        {
          "output_type": "execute_result",
          "data": {
            "text/plain": [
              "MODELYEAR                   0\n",
              "MAKE                        0\n",
              "MODEL                       0\n",
              "VEHICLECLASS                0\n",
              "ENGINESIZE                  0\n",
              "CYLINDERS                   0\n",
              "TRANSMISSION                0\n",
              "FUELTYPE                    0\n",
              "FUELCONSUMPTION_CITY        0\n",
              "FUELCONSUMPTION_HWY         0\n",
              "FUELCONSUMPTION_COMB        0\n",
              "FUELCONSUMPTION_COMB_MPG    0\n",
              "CO2EMISSIONS                0\n",
              "dtype: int64"
            ]
          },
          "metadata": {},
          "execution_count": 4
        }
      ]
    },
    {
      "cell_type": "code",
      "source": [
        "df.shape"
      ],
      "metadata": {
        "colab": {
          "base_uri": "https://localhost:8080/"
        },
        "id": "W6Y0l0SoUQxn",
        "outputId": "2f6ed6d6-89c9-44ee-a70e-3334d1dab989"
      },
      "execution_count": 5,
      "outputs": [
        {
          "output_type": "execute_result",
          "data": {
            "text/plain": [
              "(1067, 13)"
            ]
          },
          "metadata": {},
          "execution_count": 5
        }
      ]
    },
    {
      "cell_type": "markdown",
      "metadata": {
        "id": "--wtf71A4t8M"
      },
      "source": [
        "Seleccionar caracteristicas para regresión\n"
      ]
    },
    {
      "cell_type": "code",
      "execution_count": 7,
      "metadata": {
        "button": false,
        "new_sheet": false,
        "run_control": {
          "read_only": false
        },
        "id": "Ca0LQtky4t8N",
        "colab": {
          "base_uri": "https://localhost:8080/",
          "height": 582
        },
        "outputId": "dec4d97f-2f4f-486e-d8ea-e372e9e79f8c"
      },
      "outputs": [
        {
          "output_type": "execute_result",
          "data": {
            "text/plain": [
              "    ENGINESIZE  CYLINDERS  FUELCONSUMPTION_CITY  FUELCONSUMPTION_HWY  \\\n",
              "0          2.0          4                   9.9                  6.7   \n",
              "1          2.4          4                  11.2                  7.7   \n",
              "2          1.5          4                   6.0                  5.8   \n",
              "3          3.5          6                  12.7                  9.1   \n",
              "4          3.5          6                  12.1                  8.7   \n",
              "5          3.5          6                  11.9                  7.7   \n",
              "6          3.5          6                  11.8                  8.1   \n",
              "7          3.7          6                  12.8                  9.0   \n",
              "8          3.7          6                  13.4                  9.5   \n",
              "9          2.4          4                  10.6                  7.5   \n",
              "10         2.4          4                  11.2                  8.1   \n",
              "11         3.5          6                  12.1                  8.3   \n",
              "12         5.9         12                  18.0                 12.6   \n",
              "13         5.9         12                  18.0                 12.6   \n",
              "14         4.7          8                  17.4                 11.3   \n",
              "15         4.7          8                  18.1                 12.2   \n",
              "16         4.7          8                  17.4                 11.3   \n",
              "\n",
              "    FUELCONSUMPTION_COMB  CO2EMISSIONS  \n",
              "0                    8.5           196  \n",
              "1                    9.6           221  \n",
              "2                    5.9           136  \n",
              "3                   11.1           255  \n",
              "4                   10.6           244  \n",
              "5                   10.0           230  \n",
              "6                   10.1           232  \n",
              "7                   11.1           255  \n",
              "8                   11.6           267  \n",
              "9                    9.2           212  \n",
              "10                   9.8           225  \n",
              "11                  10.4           239  \n",
              "12                  15.6           359  \n",
              "13                  15.6           359  \n",
              "14                  14.7           338  \n",
              "15                  15.4           354  \n",
              "16                  14.7           338  "
            ],
            "text/html": [
              "\n",
              "  <div id=\"df-6cafabfb-355f-4838-af24-f1de1d89607b\">\n",
              "    <div class=\"colab-df-container\">\n",
              "      <div>\n",
              "<style scoped>\n",
              "    .dataframe tbody tr th:only-of-type {\n",
              "        vertical-align: middle;\n",
              "    }\n",
              "\n",
              "    .dataframe tbody tr th {\n",
              "        vertical-align: top;\n",
              "    }\n",
              "\n",
              "    .dataframe thead th {\n",
              "        text-align: right;\n",
              "    }\n",
              "</style>\n",
              "<table border=\"1\" class=\"dataframe\">\n",
              "  <thead>\n",
              "    <tr style=\"text-align: right;\">\n",
              "      <th></th>\n",
              "      <th>ENGINESIZE</th>\n",
              "      <th>CYLINDERS</th>\n",
              "      <th>FUELCONSUMPTION_CITY</th>\n",
              "      <th>FUELCONSUMPTION_HWY</th>\n",
              "      <th>FUELCONSUMPTION_COMB</th>\n",
              "      <th>CO2EMISSIONS</th>\n",
              "    </tr>\n",
              "  </thead>\n",
              "  <tbody>\n",
              "    <tr>\n",
              "      <th>0</th>\n",
              "      <td>2.0</td>\n",
              "      <td>4</td>\n",
              "      <td>9.9</td>\n",
              "      <td>6.7</td>\n",
              "      <td>8.5</td>\n",
              "      <td>196</td>\n",
              "    </tr>\n",
              "    <tr>\n",
              "      <th>1</th>\n",
              "      <td>2.4</td>\n",
              "      <td>4</td>\n",
              "      <td>11.2</td>\n",
              "      <td>7.7</td>\n",
              "      <td>9.6</td>\n",
              "      <td>221</td>\n",
              "    </tr>\n",
              "    <tr>\n",
              "      <th>2</th>\n",
              "      <td>1.5</td>\n",
              "      <td>4</td>\n",
              "      <td>6.0</td>\n",
              "      <td>5.8</td>\n",
              "      <td>5.9</td>\n",
              "      <td>136</td>\n",
              "    </tr>\n",
              "    <tr>\n",
              "      <th>3</th>\n",
              "      <td>3.5</td>\n",
              "      <td>6</td>\n",
              "      <td>12.7</td>\n",
              "      <td>9.1</td>\n",
              "      <td>11.1</td>\n",
              "      <td>255</td>\n",
              "    </tr>\n",
              "    <tr>\n",
              "      <th>4</th>\n",
              "      <td>3.5</td>\n",
              "      <td>6</td>\n",
              "      <td>12.1</td>\n",
              "      <td>8.7</td>\n",
              "      <td>10.6</td>\n",
              "      <td>244</td>\n",
              "    </tr>\n",
              "    <tr>\n",
              "      <th>5</th>\n",
              "      <td>3.5</td>\n",
              "      <td>6</td>\n",
              "      <td>11.9</td>\n",
              "      <td>7.7</td>\n",
              "      <td>10.0</td>\n",
              "      <td>230</td>\n",
              "    </tr>\n",
              "    <tr>\n",
              "      <th>6</th>\n",
              "      <td>3.5</td>\n",
              "      <td>6</td>\n",
              "      <td>11.8</td>\n",
              "      <td>8.1</td>\n",
              "      <td>10.1</td>\n",
              "      <td>232</td>\n",
              "    </tr>\n",
              "    <tr>\n",
              "      <th>7</th>\n",
              "      <td>3.7</td>\n",
              "      <td>6</td>\n",
              "      <td>12.8</td>\n",
              "      <td>9.0</td>\n",
              "      <td>11.1</td>\n",
              "      <td>255</td>\n",
              "    </tr>\n",
              "    <tr>\n",
              "      <th>8</th>\n",
              "      <td>3.7</td>\n",
              "      <td>6</td>\n",
              "      <td>13.4</td>\n",
              "      <td>9.5</td>\n",
              "      <td>11.6</td>\n",
              "      <td>267</td>\n",
              "    </tr>\n",
              "    <tr>\n",
              "      <th>9</th>\n",
              "      <td>2.4</td>\n",
              "      <td>4</td>\n",
              "      <td>10.6</td>\n",
              "      <td>7.5</td>\n",
              "      <td>9.2</td>\n",
              "      <td>212</td>\n",
              "    </tr>\n",
              "    <tr>\n",
              "      <th>10</th>\n",
              "      <td>2.4</td>\n",
              "      <td>4</td>\n",
              "      <td>11.2</td>\n",
              "      <td>8.1</td>\n",
              "      <td>9.8</td>\n",
              "      <td>225</td>\n",
              "    </tr>\n",
              "    <tr>\n",
              "      <th>11</th>\n",
              "      <td>3.5</td>\n",
              "      <td>6</td>\n",
              "      <td>12.1</td>\n",
              "      <td>8.3</td>\n",
              "      <td>10.4</td>\n",
              "      <td>239</td>\n",
              "    </tr>\n",
              "    <tr>\n",
              "      <th>12</th>\n",
              "      <td>5.9</td>\n",
              "      <td>12</td>\n",
              "      <td>18.0</td>\n",
              "      <td>12.6</td>\n",
              "      <td>15.6</td>\n",
              "      <td>359</td>\n",
              "    </tr>\n",
              "    <tr>\n",
              "      <th>13</th>\n",
              "      <td>5.9</td>\n",
              "      <td>12</td>\n",
              "      <td>18.0</td>\n",
              "      <td>12.6</td>\n",
              "      <td>15.6</td>\n",
              "      <td>359</td>\n",
              "    </tr>\n",
              "    <tr>\n",
              "      <th>14</th>\n",
              "      <td>4.7</td>\n",
              "      <td>8</td>\n",
              "      <td>17.4</td>\n",
              "      <td>11.3</td>\n",
              "      <td>14.7</td>\n",
              "      <td>338</td>\n",
              "    </tr>\n",
              "    <tr>\n",
              "      <th>15</th>\n",
              "      <td>4.7</td>\n",
              "      <td>8</td>\n",
              "      <td>18.1</td>\n",
              "      <td>12.2</td>\n",
              "      <td>15.4</td>\n",
              "      <td>354</td>\n",
              "    </tr>\n",
              "    <tr>\n",
              "      <th>16</th>\n",
              "      <td>4.7</td>\n",
              "      <td>8</td>\n",
              "      <td>17.4</td>\n",
              "      <td>11.3</td>\n",
              "      <td>14.7</td>\n",
              "      <td>338</td>\n",
              "    </tr>\n",
              "  </tbody>\n",
              "</table>\n",
              "</div>\n",
              "      <button class=\"colab-df-convert\" onclick=\"convertToInteractive('df-6cafabfb-355f-4838-af24-f1de1d89607b')\"\n",
              "              title=\"Convert this dataframe to an interactive table.\"\n",
              "              style=\"display:none;\">\n",
              "        \n",
              "  <svg xmlns=\"http://www.w3.org/2000/svg\" height=\"24px\"viewBox=\"0 0 24 24\"\n",
              "       width=\"24px\">\n",
              "    <path d=\"M0 0h24v24H0V0z\" fill=\"none\"/>\n",
              "    <path d=\"M18.56 5.44l.94 2.06.94-2.06 2.06-.94-2.06-.94-.94-2.06-.94 2.06-2.06.94zm-11 1L8.5 8.5l.94-2.06 2.06-.94-2.06-.94L8.5 2.5l-.94 2.06-2.06.94zm10 10l.94 2.06.94-2.06 2.06-.94-2.06-.94-.94-2.06-.94 2.06-2.06.94z\"/><path d=\"M17.41 7.96l-1.37-1.37c-.4-.4-.92-.59-1.43-.59-.52 0-1.04.2-1.43.59L10.3 9.45l-7.72 7.72c-.78.78-.78 2.05 0 2.83L4 21.41c.39.39.9.59 1.41.59.51 0 1.02-.2 1.41-.59l7.78-7.78 2.81-2.81c.8-.78.8-2.07 0-2.86zM5.41 20L4 18.59l7.72-7.72 1.47 1.35L5.41 20z\"/>\n",
              "  </svg>\n",
              "      </button>\n",
              "      \n",
              "  <style>\n",
              "    .colab-df-container {\n",
              "      display:flex;\n",
              "      flex-wrap:wrap;\n",
              "      gap: 12px;\n",
              "    }\n",
              "\n",
              "    .colab-df-convert {\n",
              "      background-color: #E8F0FE;\n",
              "      border: none;\n",
              "      border-radius: 50%;\n",
              "      cursor: pointer;\n",
              "      display: none;\n",
              "      fill: #1967D2;\n",
              "      height: 32px;\n",
              "      padding: 0 0 0 0;\n",
              "      width: 32px;\n",
              "    }\n",
              "\n",
              "    .colab-df-convert:hover {\n",
              "      background-color: #E2EBFA;\n",
              "      box-shadow: 0px 1px 2px rgba(60, 64, 67, 0.3), 0px 1px 3px 1px rgba(60, 64, 67, 0.15);\n",
              "      fill: #174EA6;\n",
              "    }\n",
              "\n",
              "    [theme=dark] .colab-df-convert {\n",
              "      background-color: #3B4455;\n",
              "      fill: #D2E3FC;\n",
              "    }\n",
              "\n",
              "    [theme=dark] .colab-df-convert:hover {\n",
              "      background-color: #434B5C;\n",
              "      box-shadow: 0px 1px 3px 1px rgba(0, 0, 0, 0.15);\n",
              "      filter: drop-shadow(0px 1px 2px rgba(0, 0, 0, 0.3));\n",
              "      fill: #FFFFFF;\n",
              "    }\n",
              "  </style>\n",
              "\n",
              "      <script>\n",
              "        const buttonEl =\n",
              "          document.querySelector('#df-6cafabfb-355f-4838-af24-f1de1d89607b button.colab-df-convert');\n",
              "        buttonEl.style.display =\n",
              "          google.colab.kernel.accessAllowed ? 'block' : 'none';\n",
              "\n",
              "        async function convertToInteractive(key) {\n",
              "          const element = document.querySelector('#df-6cafabfb-355f-4838-af24-f1de1d89607b');\n",
              "          const dataTable =\n",
              "            await google.colab.kernel.invokeFunction('convertToInteractive',\n",
              "                                                     [key], {});\n",
              "          if (!dataTable) return;\n",
              "\n",
              "          const docLinkHtml = 'Like what you see? Visit the ' +\n",
              "            '<a target=\"_blank\" href=https://colab.research.google.com/notebooks/data_table.ipynb>data table notebook</a>'\n",
              "            + ' to learn more about interactive tables.';\n",
              "          element.innerHTML = '';\n",
              "          dataTable['output_type'] = 'display_data';\n",
              "          await google.colab.output.renderOutput(dataTable, element);\n",
              "          const docLink = document.createElement('div');\n",
              "          docLink.innerHTML = docLinkHtml;\n",
              "          element.appendChild(docLink);\n",
              "        }\n",
              "      </script>\n",
              "    </div>\n",
              "  </div>\n",
              "  "
            ]
          },
          "metadata": {},
          "execution_count": 7
        }
      ],
      "source": [
        "cdf = df[['ENGINESIZE','CYLINDERS','FUELCONSUMPTION_CITY','FUELCONSUMPTION_HWY','FUELCONSUMPTION_COMB','CO2EMISSIONS']]\n",
        "cdf.head(17)"
      ]
    },
    {
      "cell_type": "markdown",
      "metadata": {
        "id": "zMg-xvWE4t8P"
      },
      "source": [
        "Let's plot Emission values with respect to Engine size:\n"
      ]
    },
    {
      "cell_type": "code",
      "execution_count": 8,
      "metadata": {
        "button": false,
        "new_sheet": false,
        "run_control": {
          "read_only": false
        },
        "scrolled": true,
        "id": "4iHxkcC14t8Q",
        "colab": {
          "base_uri": "https://localhost:8080/",
          "height": 280
        },
        "outputId": "b2038e7f-760f-402b-b95e-41d19a37ac6f"
      },
      "outputs": [
        {
          "output_type": "display_data",
          "data": {
            "text/plain": [
              "<Figure size 432x288 with 1 Axes>"
            ],
            "image/png": "[encoded data removed]"
          },
          "metadata": {
            "needs_background": "light"
          }
        }
      ],
      "source": [
        "plt.scatter(cdf.ENGINESIZE, cdf.CO2EMISSIONS,  color='blue')\n",
        "plt.xlabel(\"Engine size\")\n",
        "plt.ylabel(\"Emission\")\n",
        "plt.show()"
      ]
    },
    {
      "cell_type": "code",
      "source": [
        "plt.scatter(cdf.FUELCONSUMPTION_CITY,cdf.CYLINDERS)"
      ],
      "metadata": {
        "colab": {
          "base_uri": "https://localhost:8080/",
          "height": 282
        },
        "id": "o8_d_Yahfn5Q",
        "outputId": "f542e43e-8cdc-4a06-d773-e846bb7968bf"
      },
      "execution_count": 10,
      "outputs": [
        {
          "output_type": "execute_result",
          "data": {
            "text/plain": [
              "<matplotlib.collections.PathCollection at 0x7ff6674cd650>"
            ]
          },
          "metadata": {},
          "execution_count": 10
        },
        {
          "output_type": "display_data",
          "data": {
            "text/plain": [
              "<Figure size 432x288 with 1 Axes>"
            ],
            "image/png": "[encoded data removed]"
          },
          "metadata": {
            "needs_background": "light"
          }
        }
      ]
    },
    {
      "cell_type": "markdown",
      "metadata": {
        "button": false,
        "new_sheet": false,
        "run_control": {
          "read_only": false
        },
        "id": "4jTT1puw4t8S"
      },
      "source": [
        "Train/Test Split implica dividir el conjunto de datos en conjuntos de entrenamiento y prueba respectivamente, que son mutuamente excluyentes. Después de lo cual, entrena con el conjunto de entrenamiento y prueba con el conjunto de prueba.\n",
        "Esto proporcionará una evaluación más precisa de la precisión fuera de la muestra porque el conjunto de datos de prueba no forma parte del conjunto de datos que se utilizó para entrenar el modelo. Por lo tanto, nos da una mejor comprensión de qué tan bien generaliza nuestro modelo en nuevos datos.\n",
        "\n",
        "¡Conocemos el resultado de cada punto de datos en el conjunto de datos de prueba, por lo que es excelente para probar! Dado que estos datos no se han utilizado para entrenar el modelo, el modelo no tiene conocimiento del resultado de estos puntos de datos. Entonces, en esencia, es realmente una prueba fuera de muestra.\n",
        "\n",
        "Dividamos nuestro conjunto de datos en conjuntos de entrenamiento y prueba. Alrededor del 80 % de todo el conjunto de datos se utilizará para entrenamiento y el 20 % para pruebas. Creamos una máscara para seleccionar filas aleatorias usando la función **np.random.rand()**:\n"
      ]
    },
    {
      "cell_type": "code",
      "execution_count": 12,
      "metadata": {
        "button": false,
        "new_sheet": false,
        "run_control": {
          "read_only": false
        },
        "id": "0xEQWn7Y4t8T"
      },
      "outputs": [],
      "source": [
        "msk = np.random.rand(len(df)) < 0.7\n",
        "train = cdf[msk]\n",
        "test = cdf[~msk]"
      ]
    },
    {
      "cell_type": "markdown",
      "metadata": {
        "button": false,
        "new_sheet": false,
        "run_control": {
          "read_only": false
        },
        "id": "-MYb9vl84t8V"
      },
      "source": [
        "Entrenar distribución de data\n"
      ]
    },
    {
      "cell_type": "code",
      "execution_count": 13,
      "metadata": {
        "button": false,
        "new_sheet": false,
        "run_control": {
          "read_only": false
        },
        "id": "TUIWCamI4t8W",
        "colab": {
          "base_uri": "https://localhost:8080/",
          "height": 283
        },
        "outputId": "0b7e284d-851e-4da8-e243-3745cd19380f"
      },
      "outputs": [
        {
          "output_type": "display_data",
          "data": {
            "text/plain": [
              "<Figure size 432x288 with 1 Axes>"
            ],
            "image/png": "[encoded data removed]"
          },
          "metadata": {
            "needs_background": "light"
          }
        }
      ],
      "source": [
        "plt.scatter(train.ENGINESIZE, train.CO2EMISSIONS,  color='blue')\n",
        "plt.xlabel(\"Engine size\")\n",
        "plt.ylabel(\"Emission\")\n",
        "plt.show()"
      ]
    },
    {
      "cell_type": "markdown",
      "metadata": {
        "button": false,
        "new_sheet": false,
        "run_control": {
          "read_only": false
        },
        "id": "eYw7R7FI4t8X"
      },
      "source": [
        "<h2 id=\"multiple_regression_model\">Multiple Regression Model</h2>\n"
      ]
    },
    {
      "cell_type": "markdown",
      "metadata": {
        "id": "TpYDnsNR4t8Y"
      },
      "source": [
        "En realidad, existen múltiples variables que impactan en la emisión de Co2. Cuando está presente más de una variable independiente, el proceso se denomina regresión lineal múltiple. Un ejemplo de regresión lineal múltiple es la predicción de co2emisiones utilizando las características FUELCONSUMPTION_COMB, EngineSize y Cylinders of cars. Lo bueno aquí es que el modelo de regresión lineal múltiple es la extensión del modelo de regresión lineal simple."
      ]
    },
    {
      "cell_type": "markdown",
      "source": [
        "  CO2EMISSION=ENGINESIZE(CX1)+ CYLINDERS(CX2) + FUELCONSUMBTION_COMB CX3 + E"
      ],
      "metadata": {
        "id": "CrohMZgnVcfU"
      }
    },
    {
      "cell_type": "code",
      "execution_count": 14,
      "metadata": {
        "button": false,
        "new_sheet": false,
        "run_control": {
          "read_only": false
        },
        "id": "f6-SS_8M4t8Z",
        "colab": {
          "base_uri": "https://localhost:8080/"
        },
        "outputId": "d8b2f906-7daf-4f7f-b18a-9b16d958f68d"
      },
      "outputs": [
        {
          "output_type": "stream",
          "name": "stdout",
          "text": [
            "Coefficients:  [[10.54787988  7.8140088   9.50968692]]\n"
          ]
        }
      ],
      "source": [
        "from sklearn import linear_model\n",
        "regr = linear_model.LinearRegression()\n",
        "\n",
        "\n",
        "x = np.asanyarray(train[['ENGINESIZE','CYLINDERS','FUELCONSUMPTION_COMB']])\n",
        "y = np.asanyarray(train[['CO2EMISSIONS']])\n",
        "regr.fit (x, y)\n",
        "# The coefficients\n",
        "print ('Coefficients: ', regr.coef_)"
      ]
    },
    {
      "cell_type": "code",
      "source": [
        "# ingresaar al dataframe sin el numpy\n",
        "x=df['CO2EMISSIONS','CYLINDERS']\n",
        "Y=df['FUELCONSUMPTION_CITY']"
      ],
      "metadata": {
        "colab": {
          "base_uri": "https://localhost:8080/",
          "height": 502
        },
        "id": "veBl38QMV570",
        "outputId": "51516af0-9a45-4c7a-c3ec-f4af1a55a32f"
      },
      "execution_count": 15,
      "outputs": [
        {
          "output_type": "error",
          "ename": "KeyError",
          "evalue": "ignored",
          "traceback": [
            "\u001b[0;31m---------------------------------------------------------------------------\u001b[0m",
            "\u001b[0;31mKeyError\u001b[0m                                  Traceback (most recent call last)",
            "\u001b[0;32m/usr/local/lib/python3.7/dist-packages/pandas/core/indexes/base.py\u001b[0m in \u001b[0;36mget_loc\u001b[0;34m(self, key, method, tolerance)\u001b[0m\n\u001b[1;32m   3360\u001b[0m             \u001b[0;32mtry\u001b[0m\u001b[0;34m:\u001b[0m\u001b[0;34m\u001b[0m\u001b[0;34m\u001b[0m\u001b[0m\n\u001b[0;32m-> 3361\u001b[0;31m                 \u001b[0;32mreturn\u001b[0m \u001b[0mself\u001b[0m\u001b[0;34m.\u001b[0m\u001b[0m_engine\u001b[0m\u001b[0;34m.\u001b[0m\u001b[0mget_loc\u001b[0m\u001b[0;34m(\u001b[0m\u001b[0mcasted_key\u001b[0m\u001b[0;34m)\u001b[0m\u001b[0;34m\u001b[0m\u001b[0;34m\u001b[0m\u001b[0m\n\u001b[0m\u001b[1;32m   3362\u001b[0m             \u001b[0;32mexcept\u001b[0m \u001b[0mKeyError\u001b[0m \u001b[0;32mas\u001b[0m \u001b[0merr\u001b[0m\u001b[0;34m:\u001b[0m\u001b[0;34m\u001b[0m\u001b[0;34m\u001b[0m\u001b[0m\n",
            "\u001b[0;32m/usr/local/lib/python3.7/dist-packages/pandas/_libs/index.pyx\u001b[0m in \u001b[0;36mpandas._libs.index.IndexEngine.get_loc\u001b[0;34m()\u001b[0m\n",
            "\u001b[0;32m/usr/local/lib/python3.7/dist-packages/pandas/_libs/index.pyx\u001b[0m in \u001b[0;36mpandas._libs.index.IndexEngine.get_loc\u001b[0;34m()\u001b[0m\n",
            "\u001b[0;32mpandas/_libs/hashtable_class_helper.pxi\u001b[0m in \u001b[0;36mpandas._libs.hashtable.PyObjectHashTable.get_item\u001b[0;34m()\u001b[0m\n",
            "\u001b[0;32mpandas/_libs/hashtable_class_helper.pxi\u001b[0m in \u001b[0;36mpandas._libs.hashtable.PyObjectHashTable.get_item\u001b[0;34m()\u001b[0m\n",
            "\u001b[0;31mKeyError\u001b[0m: ('CO2EMISSIONS', 'CYLINDERS')",
            "\nThe above exception was the direct cause of the following exception:\n",
            "\u001b[0;31mKeyError\u001b[0m                                  Traceback (most recent call last)",
            "\u001b[0;32m<ipython-input-15-b1bb53dec114>\u001b[0m in \u001b[0;36m<module>\u001b[0;34m()\u001b[0m\n\u001b[1;32m      1\u001b[0m \u001b[0;31m# ingresaar al dataframe sin el numpy\u001b[0m\u001b[0;34m\u001b[0m\u001b[0;34m\u001b[0m\u001b[0;34m\u001b[0m\u001b[0m\n\u001b[0;32m----> 2\u001b[0;31m \u001b[0mx\u001b[0m\u001b[0;34m=\u001b[0m\u001b[0mdf\u001b[0m\u001b[0;34m[\u001b[0m\u001b[0;34m'CO2EMISSIONS'\u001b[0m\u001b[0;34m,\u001b[0m\u001b[0;34m'CYLINDERS'\u001b[0m\u001b[0;34m]\u001b[0m\u001b[0;34m\u001b[0m\u001b[0;34m\u001b[0m\u001b[0m\n\u001b[0m\u001b[1;32m      3\u001b[0m \u001b[0mY\u001b[0m\u001b[0;34m=\u001b[0m\u001b[0mdf\u001b[0m\u001b[0;34m[\u001b[0m\u001b[0;34m'FUELCONSUMPTION_CITY'\u001b[0m\u001b[0;34m]\u001b[0m\u001b[0;34m\u001b[0m\u001b[0;34m\u001b[0m\u001b[0m\n",
            "\u001b[0;32m/usr/local/lib/python3.7/dist-packages/pandas/core/frame.py\u001b[0m in \u001b[0;36m__getitem__\u001b[0;34m(self, key)\u001b[0m\n\u001b[1;32m   3456\u001b[0m             \u001b[0;32mif\u001b[0m \u001b[0mself\u001b[0m\u001b[0;34m.\u001b[0m\u001b[0mcolumns\u001b[0m\u001b[0;34m.\u001b[0m\u001b[0mnlevels\u001b[0m \u001b[0;34m>\u001b[0m \u001b[0;36m1\u001b[0m\u001b[0;34m:\u001b[0m\u001b[0;34m\u001b[0m\u001b[0;34m\u001b[0m\u001b[0m\n\u001b[1;32m   3457\u001b[0m                 \u001b[0;32mreturn\u001b[0m \u001b[0mself\u001b[0m\u001b[0;34m.\u001b[0m\u001b[0m_getitem_multilevel\u001b[0m\u001b[0;34m(\u001b[0m\u001b[0mkey\u001b[0m\u001b[0;34m)\u001b[0m\u001b[0;34m\u001b[0m\u001b[0;34m\u001b[0m\u001b[0m\n\u001b[0;32m-> 3458\u001b[0;31m             \u001b[0mindexer\u001b[0m \u001b[0;34m=\u001b[0m \u001b[0mself\u001b[0m\u001b[0;34m.\u001b[0m\u001b[0mcolumns\u001b[0m\u001b[0;34m.\u001b[0m\u001b[0mget_loc\u001b[0m\u001b[0;34m(\u001b[0m\u001b[0mkey\u001b[0m\u001b[0;34m)\u001b[0m\u001b[0;34m\u001b[0m\u001b[0;34m\u001b[0m\u001b[0m\n\u001b[0m\u001b[1;32m   3459\u001b[0m             \u001b[0;32mif\u001b[0m \u001b[0mis_integer\u001b[0m\u001b[0;34m(\u001b[0m\u001b[0mindexer\u001b[0m\u001b[0;34m)\u001b[0m\u001b[0;34m:\u001b[0m\u001b[0;34m\u001b[0m\u001b[0;34m\u001b[0m\u001b[0m\n\u001b[1;32m   3460\u001b[0m                 \u001b[0mindexer\u001b[0m \u001b[0;34m=\u001b[0m \u001b[0;34m[\u001b[0m\u001b[0mindexer\u001b[0m\u001b[0;34m]\u001b[0m\u001b[0;34m\u001b[0m\u001b[0;34m\u001b[0m\u001b[0m\n",
            "\u001b[0;32m/usr/local/lib/python3.7/dist-packages/pandas/core/indexes/base.py\u001b[0m in \u001b[0;36mget_loc\u001b[0;34m(self, key, method, tolerance)\u001b[0m\n\u001b[1;32m   3361\u001b[0m                 \u001b[0;32mreturn\u001b[0m \u001b[0mself\u001b[0m\u001b[0;34m.\u001b[0m\u001b[0m_engine\u001b[0m\u001b[0;34m.\u001b[0m\u001b[0mget_loc\u001b[0m\u001b[0;34m(\u001b[0m\u001b[0mcasted_key\u001b[0m\u001b[0;34m)\u001b[0m\u001b[0;34m\u001b[0m\u001b[0;34m\u001b[0m\u001b[0m\n\u001b[1;32m   3362\u001b[0m             \u001b[0;32mexcept\u001b[0m \u001b[0mKeyError\u001b[0m \u001b[0;32mas\u001b[0m \u001b[0merr\u001b[0m\u001b[0;34m:\u001b[0m\u001b[0;34m\u001b[0m\u001b[0;34m\u001b[0m\u001b[0m\n\u001b[0;32m-> 3363\u001b[0;31m                 \u001b[0;32mraise\u001b[0m \u001b[0mKeyError\u001b[0m\u001b[0;34m(\u001b[0m\u001b[0mkey\u001b[0m\u001b[0;34m)\u001b[0m \u001b[0;32mfrom\u001b[0m \u001b[0merr\u001b[0m\u001b[0;34m\u001b[0m\u001b[0;34m\u001b[0m\u001b[0m\n\u001b[0m\u001b[1;32m   3364\u001b[0m \u001b[0;34m\u001b[0m\u001b[0m\n\u001b[1;32m   3365\u001b[0m         \u001b[0;32mif\u001b[0m \u001b[0mis_scalar\u001b[0m\u001b[0;34m(\u001b[0m\u001b[0mkey\u001b[0m\u001b[0;34m)\u001b[0m \u001b[0;32mand\u001b[0m \u001b[0misna\u001b[0m\u001b[0;34m(\u001b[0m\u001b[0mkey\u001b[0m\u001b[0;34m)\u001b[0m \u001b[0;32mand\u001b[0m \u001b[0;32mnot\u001b[0m \u001b[0mself\u001b[0m\u001b[0;34m.\u001b[0m\u001b[0mhasnans\u001b[0m\u001b[0;34m:\u001b[0m\u001b[0;34m\u001b[0m\u001b[0;34m\u001b[0m\u001b[0m\n",
            "\u001b[0;31mKeyError\u001b[0m: ('CO2EMISSIONS', 'CYLINDERS')"
          ]
        }
      ]
    },
    {
      "cell_type": "markdown",
      "metadata": {
        "id": "d3OU2sJw4t8a"
      },
      "source": [
        "Como se mencionó anteriormente, **Coeficiente** e **Intersección** son los parámetros de la línea ajustada.\n",
        "Dado que es un modelo de regresión lineal múltiple con 3 parámetros y que los parámetros son la intersección y los coeficientes del hiperplano, sklearn puede estimarlos a partir de nuestros datos. Scikit-learn utiliza el método simple de mínimos cuadrados ordinarios para resolver este problema.\n",
        "#### Ordinary Least Squares (OLS)\n",
        "OLS es un método para estimar los parámetros desconocidos en un modelo de regresión lineal. OLS elige los parámetros de una función lineal de un conjunto de variables explicativas minimizando la suma de los cuadrados de las diferencias entre la variable dependiente objetivo y las predichas por la función lineal. En otras palabras, intenta minimizar la suma de los errores cuadráticos (SSE) o el error cuadrático medio (MSE) entre la variable objetivo (y) y nuestra salida pronosticada ($\\hat{y}$) en todas las muestras del conjunto de datos.\n",
        "\n",
        "OLS puede encontrar los mejores parámetros utilizando los siguientes métodos:\n",
        "\n",
        "* Resolviendo los parámetros del modelo analíticamente usando ecuaciones de forma cerrada\n",
        "* Utilizando un algoritmo de optimización (Gradient Descent, Stochastic Gradient Descent, Método de Newton, etc.)\n"
      ]
    },
    {
      "cell_type": "markdown",
      "metadata": {
        "id": "j5iT7S9k4t8b"
      },
      "source": [
        "<h2 id=\"prediction\">Prediction</h2>\n"
      ]
    },
    {
      "cell_type": "code",
      "execution_count": 17,
      "metadata": {
        "button": false,
        "new_sheet": false,
        "run_control": {
          "read_only": false
        },
        "id": "CkHe4wQJ4t8d",
        "colab": {
          "base_uri": "https://localhost:8080/"
        },
        "outputId": "395ea799-325d-4394-b73d-e923174a7ecf"
      },
      "outputs": [
        {
          "output_type": "stream",
          "name": "stdout",
          "text": [
            "Residual sum of squares: 512.39\n",
            "Variance score: 0.88\n"
          ]
        },
        {
          "output_type": "stream",
          "name": "stderr",
          "text": [
            "/usr/local/lib/python3.7/dist-packages/sklearn/base.py:444: UserWarning: X has feature names, but LinearRegression was fitted without feature names\n",
            "  f\"X has feature names, but {self.__class__.__name__} was fitted without\"\n"
          ]
        }
      ],
      "source": [
        "y_hat= regr.predict(test[['ENGINESIZE','CYLINDERS','FUELCONSUMPTION_COMB']])\n",
        "x = np.asanyarray(test[['ENGINESIZE','CYLINDERS','FUELCONSUMPTION_COMB']])\n",
        "y = np.asanyarray(test[['CO2EMISSIONS']])\n",
        "\n",
        "print(\"Residual sum of squares: %.2f\"\n",
        "      % np.mean((y_hat - y) ** 2))\n",
        "\n",
        "# Explained variance score: 1 is perfect prediction\n",
        "print('Variance score: %.2f' % regr.score(x, y))"
      ]
    },
    {
      "cell_type": "code",
      "source": [
        "df.tail(5)"
      ],
      "metadata": {
        "colab": {
          "base_uri": "https://localhost:8080/",
          "height": 206
        },
        "id": "TuCVZoPJikbU",
        "outputId": "9f03bcd6-e2b7-47a0-c797-b68805cf1aa8"
      },
      "execution_count": 21,
      "outputs": [
        {
          "output_type": "execute_result",
          "data": {
            "text/plain": [
              "      MODELYEAR   MAKE     MODEL    VEHICLECLASS  ENGINESIZE  CYLINDERS  \\\n",
              "1062       2014  VOLVO  XC60 AWD     SUV - SMALL         3.0          6   \n",
              "1063       2014  VOLVO  XC60 AWD     SUV - SMALL         3.2          6   \n",
              "1064       2014  VOLVO  XC70 AWD     SUV - SMALL         3.0          6   \n",
              "1065       2014  VOLVO  XC70 AWD     SUV - SMALL         3.2          6   \n",
              "1066       2014  VOLVO  XC90 AWD  SUV - STANDARD         3.2          6   \n",
              "\n",
              "     TRANSMISSION FUELTYPE  FUELCONSUMPTION_CITY  FUELCONSUMPTION_HWY  \\\n",
              "1062          AS6        X                  13.4                  9.8   \n",
              "1063          AS6        X                  13.2                  9.5   \n",
              "1064          AS6        X                  13.4                  9.8   \n",
              "1065          AS6        X                  12.9                  9.3   \n",
              "1066          AS6        X                  14.9                 10.2   \n",
              "\n",
              "      FUELCONSUMPTION_COMB  FUELCONSUMPTION_COMB_MPG  CO2EMISSIONS  \n",
              "1062                  11.8                        24           271  \n",
              "1063                  11.5                        25           264  \n",
              "1064                  11.8                        24           271  \n",
              "1065                  11.3                        25           260  \n",
              "1066                  12.8                        22           294  "
            ],
            "text/html": [
              "\n",
              "  <div id=\"df-6a81e2d7-640b-41c2-8132-8498e9c2f355\">\n",
              "    <div class=\"colab-df-container\">\n",
              "      <div>\n",
              "<style scoped>\n",
              "    .dataframe tbody tr th:only-of-type {\n",
              "        vertical-align: middle;\n",
              "    }\n",
              "\n",
              "    .dataframe tbody tr th {\n",
              "        vertical-align: top;\n",
              "    }\n",
              "\n",
              "    .dataframe thead th {\n",
              "        text-align: right;\n",
              "    }\n",
              "</style>\n",
              "<table border=\"1\" class=\"dataframe\">\n",
              "  <thead>\n",
              "    <tr style=\"text-align: right;\">\n",
              "      <th></th>\n",
              "      <th>MODELYEAR</th>\n",
              "      <th>MAKE</th>\n",
              "      <th>MODEL</th>\n",
              "      <th>VEHICLECLASS</th>\n",
              "      <th>ENGINESIZE</th>\n",
              "      <th>CYLINDERS</th>\n",
              "      <th>TRANSMISSION</th>\n",
              "      <th>FUELTYPE</th>\n",
              "      <th>FUELCONSUMPTION_CITY</th>\n",
              "      <th>FUELCONSUMPTION_HWY</th>\n",
              "      <th>FUELCONSUMPTION_COMB</th>\n",
              "      <th>FUELCONSUMPTION_COMB_MPG</th>\n",
              "      <th>CO2EMISSIONS</th>\n",
              "    </tr>\n",
              "  </thead>\n",
              "  <tbody>\n",
              "    <tr>\n",
              "      <th>1062</th>\n",
              "      <td>2014</td>\n",
              "      <td>VOLVO</td>\n",
              "      <td>XC60 AWD</td>\n",
              "      <td>SUV - SMALL</td>\n",
              "      <td>3.0</td>\n",
              "      <td>6</td>\n",
              "      <td>AS6</td>\n",
              "      <td>X</td>\n",
              "      <td>13.4</td>\n",
              "      <td>9.8</td>\n",
              "      <td>11.8</td>\n",
              "      <td>24</td>\n",
              "      <td>271</td>\n",
              "    </tr>\n",
              "    <tr>\n",
              "      <th>1063</th>\n",
              "      <td>2014</td>\n",
              "      <td>VOLVO</td>\n",
              "      <td>XC60 AWD</td>\n",
              "      <td>SUV - SMALL</td>\n",
              "      <td>3.2</td>\n",
              "      <td>6</td>\n",
              "      <td>AS6</td>\n",
              "      <td>X</td>\n",
              "      <td>13.2</td>\n",
              "      <td>9.5</td>\n",
              "      <td>11.5</td>\n",
              "      <td>25</td>\n",
              "      <td>264</td>\n",
              "    </tr>\n",
              "    <tr>\n",
              "      <th>1064</th>\n",
              "      <td>2014</td>\n",
              "      <td>VOLVO</td>\n",
              "      <td>XC70 AWD</td>\n",
              "      <td>SUV - SMALL</td>\n",
              "      <td>3.0</td>\n",
              "      <td>6</td>\n",
              "      <td>AS6</td>\n",
              "      <td>X</td>\n",
              "      <td>13.4</td>\n",
              "      <td>9.8</td>\n",
              "      <td>11.8</td>\n",
              "      <td>24</td>\n",
              "      <td>271</td>\n",
              "    </tr>\n",
              "    <tr>\n",
              "      <th>1065</th>\n",
              "      <td>2014</td>\n",
              "      <td>VOLVO</td>\n",
              "      <td>XC70 AWD</td>\n",
              "      <td>SUV - SMALL</td>\n",
              "      <td>3.2</td>\n",
              "      <td>6</td>\n",
              "      <td>AS6</td>\n",
              "      <td>X</td>\n",
              "      <td>12.9</td>\n",
              "      <td>9.3</td>\n",
              "      <td>11.3</td>\n",
              "      <td>25</td>\n",
              "      <td>260</td>\n",
              "    </tr>\n",
              "    <tr>\n",
              "      <th>1066</th>\n",
              "      <td>2014</td>\n",
              "      <td>VOLVO</td>\n",
              "      <td>XC90 AWD</td>\n",
              "      <td>SUV - STANDARD</td>\n",
              "      <td>3.2</td>\n",
              "      <td>6</td>\n",
              "      <td>AS6</td>\n",
              "      <td>X</td>\n",
              "      <td>14.9</td>\n",
              "      <td>10.2</td>\n",
              "      <td>12.8</td>\n",
              "      <td>22</td>\n",
              "      <td>294</td>\n",
              "    </tr>\n",
              "  </tbody>\n",
              "</table>\n",
              "</div>\n",
              "      <button class=\"colab-df-convert\" onclick=\"convertToInteractive('df-6a81e2d7-640b-41c2-8132-8498e9c2f355')\"\n",
              "              title=\"Convert this dataframe to an interactive table.\"\n",
              "              style=\"display:none;\">\n",
              "        \n",
              "  <svg xmlns=\"http://www.w3.org/2000/svg\" height=\"24px\"viewBox=\"0 0 24 24\"\n",
              "       width=\"24px\">\n",
              "    <path d=\"M0 0h24v24H0V0z\" fill=\"none\"/>\n",
              "    <path d=\"M18.56 5.44l.94 2.06.94-2.06 2.06-.94-2.06-.94-.94-2.06-.94 2.06-2.06.94zm-11 1L8.5 8.5l.94-2.06 2.06-.94-2.06-.94L8.5 2.5l-.94 2.06-2.06.94zm10 10l.94 2.06.94-2.06 2.06-.94-2.06-.94-.94-2.06-.94 2.06-2.06.94z\"/><path d=\"M17.41 7.96l-1.37-1.37c-.4-.4-.92-.59-1.43-.59-.52 0-1.04.2-1.43.59L10.3 9.45l-7.72 7.72c-.78.78-.78 2.05 0 2.83L4 21.41c.39.39.9.59 1.41.59.51 0 1.02-.2 1.41-.59l7.78-7.78 2.81-2.81c.8-.78.8-2.07 0-2.86zM5.41 20L4 18.59l7.72-7.72 1.47 1.35L5.41 20z\"/>\n",
              "  </svg>\n",
              "      </button>\n",
              "      \n",
              "  <style>\n",
              "    .colab-df-container {\n",
              "      display:flex;\n",
              "      flex-wrap:wrap;\n",
              "      gap: 12px;\n",
              "    }\n",
              "\n",
              "    .colab-df-convert {\n",
              "      background-color: #E8F0FE;\n",
              "      border: none;\n",
              "      border-radius: 50%;\n",
              "      cursor: pointer;\n",
              "      display: none;\n",
              "      fill: #1967D2;\n",
              "      height: 32px;\n",
              "      padding: 0 0 0 0;\n",
              "      width: 32px;\n",
              "    }\n",
              "\n",
              "    .colab-df-convert:hover {\n",
              "      background-color: #E2EBFA;\n",
              "      box-shadow: 0px 1px 2px rgba(60, 64, 67, 0.3), 0px 1px 3px 1px rgba(60, 64, 67, 0.15);\n",
              "      fill: #174EA6;\n",
              "    }\n",
              "\n",
              "    [theme=dark] .colab-df-convert {\n",
              "      background-color: #3B4455;\n",
              "      fill: #D2E3FC;\n",
              "    }\n",
              "\n",
              "    [theme=dark] .colab-df-convert:hover {\n",
              "      background-color: #434B5C;\n",
              "      box-shadow: 0px 1px 3px 1px rgba(0, 0, 0, 0.15);\n",
              "      filter: drop-shadow(0px 1px 2px rgba(0, 0, 0, 0.3));\n",
              "      fill: #FFFFFF;\n",
              "    }\n",
              "  </style>\n",
              "\n",
              "      <script>\n",
              "        const buttonEl =\n",
              "          document.querySelector('#df-6a81e2d7-640b-41c2-8132-8498e9c2f355 button.colab-df-convert');\n",
              "        buttonEl.style.display =\n",
              "          google.colab.kernel.accessAllowed ? 'block' : 'none';\n",
              "\n",
              "        async function convertToInteractive(key) {\n",
              "          const element = document.querySelector('#df-6a81e2d7-640b-41c2-8132-8498e9c2f355');\n",
              "          const dataTable =\n",
              "            await google.colab.kernel.invokeFunction('convertToInteractive',\n",
              "                                                     [key], {});\n",
              "          if (!dataTable) return;\n",
              "\n",
              "          const docLinkHtml = 'Like what you see? Visit the ' +\n",
              "            '<a target=\"_blank\" href=https://colab.research.google.com/notebooks/data_table.ipynb>data table notebook</a>'\n",
              "            + ' to learn more about interactive tables.';\n",
              "          element.innerHTML = '';\n",
              "          dataTable['output_type'] = 'display_data';\n",
              "          await google.colab.output.renderOutput(dataTable, element);\n",
              "          const docLink = document.createElement('div');\n",
              "          docLink.innerHTML = docLinkHtml;\n",
              "          element.appendChild(docLink);\n",
              "        }\n",
              "      </script>\n",
              "    </div>\n",
              "  </div>\n",
              "  "
            ]
          },
          "metadata": {},
          "execution_count": 21
        }
      ]
    },
    {
      "cell_type": "code",
      "source": [
        "#['ENGINESIZE','CYLINDERS','FUELCONSUMPTION_COMB']\n",
        "\n",
        "X_predict = [[3.2, 4,11.8]]\n",
        "\n",
        "\n",
        "y_result = regr.predict(X_predict)\n",
        "print(\"X=%s, Las emisiones de CO2 son: Predicted=%s \" % (X_predict[0], y_result[0]))"
      ],
      "metadata": {
        "colab": {
          "base_uri": "https://localhost:8080/"
        },
        "id": "fpWYVP0zh1-_",
        "outputId": "a953f4c6-cc50-43f0-c9f8-df0c80565980"
      },
      "execution_count": 23,
      "outputs": [
        {
          "output_type": "stream",
          "name": "stdout",
          "text": [
            "X=[3.2, 4, 11.8], Las emisiones de CO2 son: Predicted=[242.1167985] \n"
          ]
        }
      ]
    },
    {
      "cell_type": "markdown",
      "metadata": {
        "id": "1QmeUsux4t8d"
      },
      "source": [
        "**Explained variance regression score:**\\\n",
        "Sea $\\hat{y}$sea la salida objetivo estimada, y la salida objetivo correspondiente (correcta), y Var sea la varianza (el cuadrado de la desviación estándar). Entonces la varianza explicada se estima de la siguiente manera:\n",
        "$\\texttt{explainedVariance}(y, \\hat{y}) = 1 - \\frac{Var{ y - \\hat{y}}}{Var{y}}$\\\n",
        "\n",
        "La mejor puntuación posible es 1,0, los valores más bajos son peores.\n"
      ]
    },
    {
      "cell_type": "markdown",
      "source": [
        "![image.png](data:image/png;base64,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)"
      ],
      "metadata": {
        "id": "-rBBmU0AjhAu"
      }
    },
    {
      "cell_type": "markdown",
      "metadata": {
        "id": "z7aOW4Zt4t8e"
      },
      "source": [
        "<h2 id=\"practica\">Practice</h2>\n",
        "Intente usar una regresión lineal múltiple con el mismo conjunto de datos, pero esta vez use __CONSUMO DE COMBUSTIBLE en CIUDAD__ y\n",
        "__CONSUMO DE COMBUSTIBLE en HWY__ en lugar de FUELCONSUMPTION_COMB. ¿Resulta en una mejor precisión?"
      ]
    },
    {
      "cell_type": "code",
      "execution_count": null,
      "metadata": {
        "id": "Xlaf4vjy4t8f"
      },
      "outputs": [],
      "source": [
        "# write your code here\n",
        "\n"
      ]
    },
    {
      "cell_type": "markdown",
      "metadata": {
        "id": "UG5BmZva4t8f"
      },
      "source": [
        "<details><summary>Click here for the solution</summary>\n",
        "\n",
        "```python\n",
        "regr = linear_model.LinearRegression()\n",
        "x = np.asanyarray(train[['ENGINESIZE','CYLINDERS','FUELCONSUMPTION_CITY','FUELCONSUMPTION_HWY']])\n",
        "y = np.asanyarray(train[['CO2EMISSIONS']])\n",
        "regr.fit (x, y)\n",
        "print ('Coefficients: ', regr.coef_)\n",
        "y_= regr.predict(test[['ENGINESIZE','CYLINDERS','FUELCONSUMPTION_CITY','FUELCONSUMPTION_HWY']])\n",
        "x = np.asanyarray(test[['ENGINESIZE','CYLINDERS','FUELCONSUMPTION_CITY','FUELCONSUMPTION_HWY']])\n",
        "y = np.asanyarray(test[['CO2EMISSIONS']])\n",
        "print(\"Residual sum of squares: %.2f\"% np.mean((y_ - y) ** 2))\n",
        "print('Variance score: %.2f' % regr.score(x, y))\n",
        "\n",
        "```\n",
        "\n",
        "</details>\n"
      ]
    }
  ],
  "metadata": {
    "kernelspec": {
      "display_name": "Python 3",
      "language": "python",
      "name": "python3"
    },
    "language_info": {
      "codemirror_mode": {
        "name": "ipython",
        "version": 3
      },
      "file_extension": ".py",
      "mimetype": "text/x-python",
      "name": "python",
      "nbconvert_exporter": "python",
      "pygments_lexer": "ipython3",
      "version": "3.7.6"
    },
    "colab": {
      "name": "regresion y regresion ols-Co2.ipynb",
      "provenance": []
    }
  },
  "nbformat": 4,
  "nbformat_minor": 0
}